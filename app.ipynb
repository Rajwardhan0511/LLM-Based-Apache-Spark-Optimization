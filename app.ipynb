{
 "cells": [
  {
   "cell_type": "code",
   "execution_count": 1,
   "id": "b57306c7",
   "metadata": {},
   "outputs": [],
   "source": [
    "import nest_asyncio\n",
    "nest_asyncio.apply()"
   ]
  },
  {
   "cell_type": "code",
   "execution_count": null,
   "id": "6f76ffe9",
   "metadata": {},
   "outputs": [
    {
     "name": "stderr",
     "output_type": "stream",
     "text": [
      "INFO:     Started server process [4958]\n",
      "INFO:     Waiting for application startup.\n",
      "INFO:     Application startup complete.\n",
      "INFO:     Uvicorn running on http://127.0.0.1:8000 (Press CTRL+C to quit)\n"
     ]
    },
    {
     "name": "stdout",
     "output_type": "stream",
     "text": [
      "INFO:     127.0.0.1:44388 - \"GET /docs HTTP/1.1\" 200 OK\n",
      "INFO:     127.0.0.1:44388 - \"GET /openapi.json HTTP/1.1\" 200 OK\n",
      "INFO:     127.0.0.1:60032 - \"POST /modify-string/ HTTP/1.1\" 200 OK\n"
     ]
    }
   ],
   "source": [
    "import os\n",
    "import shutil\n",
    "from fastapi import FastAPI\n",
    "from pydantic import BaseModel\n",
    "from pyspark.sql import SparkSession\n",
    "import uvicorn\n",
    "# import mysql.connector\n",
    "\n",
    "# Create the FastAPI app\n",
    "app = FastAPI()\n",
    "\n",
    "# MySQL Connection Function\n",
    "# def get_db_connection():\n",
    "#     return mysql.connector.connect(\n",
    "#         host=\"localhost\",      # Change if MySQL is on a different server\n",
    "#         user=\"root\",  # Replace with your MySQL username\n",
    "#         password=\"Root@1234\",  # Replace with your MySQL password\n",
    "#         database=\"project\"\n",
    "#     )\n",
    "\n",
    "# Define the input data structure\n",
    "class InputString(BaseModel):\n",
    "    input_text: str\n",
    "\n",
    "# Endpoint to receive and modify the string\n",
    "@app.post(\"/modify-string/\")\n",
    "async def modify_string(data: InputString):\n",
    "    input_data = data.input_text\n",
    "#     res = ollama.generate(\n",
    "#         model = \"duckdb-nsql\",\n",
    "#         system = \"\",\n",
    "#         prompt = input_text\n",
    "#     )\n",
    "#     sql_query = res.response\n",
    "    sql_query = \"SELECT * FROM temp_view where Incubation_Center = 'AIC@36Inc' \"\n",
    "\n",
    "    # Spark\n",
    "    spark = SparkSession.builder.appName(\"FastAPI-Spark\").getOrCreate()\n",
    "    \n",
    "    # Read CSV file into DataFrame\n",
    "    path = \"file:///home/talentum/Project/Datasets/\"\n",
    "    file = \"Listofstartups.csv\"\n",
    "    file_path = path+file\n",
    "    df = spark.read.csv(file_path, header=True, inferSchema=True)\n",
    "        \n",
    "    # Create a temporary SQL view\n",
    "    df.createOrReplaceTempView(\"temp_view\")\n",
    "\n",
    "    # Execute the SQL query\n",
    "    output_df = spark.sql(sql_query)\n",
    "    \n",
    "    # Define output path\n",
    "    output_path = \"file:///home/talentum/Downloads/output.csv\"\n",
    "    \n",
    "    # Save DataFrame to a CSV file (overwrite existing file)\n",
    "    output_df.coalesce(1).write.mode(\"overwrite\").option(\"header\", \"true\").csv(output_path)\n",
    "\n",
    "    # Move and rename the output file\n",
    "    output_dir = \"/home/talentum/Downloads/output.csv\"\n",
    "    files = os.listdir(output_dir)\n",
    "    output_file = \"/home/talentum/Downloads/output_file.csv\"\n",
    "    for file in files:\n",
    "        if file.startswith(\"part-\"):  # Identify the actual CSV file\n",
    "            shutil.move(os.path.join(output_dir, file), output_file)\n",
    "\n",
    "    # Remove the directory after renaming the file\n",
    "    shutil.rmtree(output_dir)\n",
    "    \n",
    "    \n",
    "    # Insert the result into MySQL database\n",
    "#     try:\n",
    "#         conn = get_db_connection()\n",
    "#         cursor = conn.cursor()\n",
    "#         sql_insert = \"\"\"\n",
    "#             INSERT INTO results (input_file, input_data, sqlquery, output_file_path, datetime)\n",
    "#             VALUES (%s, %s, %s, %s, %s)\n",
    "#         \"\"\"\n",
    "#         values = (\n",
    "#             \"Listofstartups.csv\",  # Input file name\n",
    "#             input_data,\n",
    "#             sql_query,\n",
    "#             output_file,\n",
    "#             datetime.now()\n",
    "#         )\n",
    "#         cursor.execute(sql_insert, values)\n",
    "#         conn.commit()\n",
    "#         cursor.close()\n",
    "#         conn.close()\n",
    "#     except Exception as e:\n",
    "#         return {\"error\": f\"Database error: {str(e)}\"}\n",
    "    \n",
    "    \n",
    "    \n",
    "    return {\n",
    "        \"message\": \"Query executed successfully!\",\n",
    "        \"input\": input_data,\n",
    "        \"sqlquery\": sql_query,\n",
    "        \"output_file\": output_file,\n",
    "    }\n",
    "\n",
    "# Run the app using uvicorn\n",
    "uvicorn.run(app, host=\"127.0.0.1\", port=8000)"
   ]
  },
  {
   "cell_type": "code",
   "execution_count": null,
   "id": "1d0c94ae",
   "metadata": {},
   "outputs": [],
   "source": []
  },
  {
   "cell_type": "markdown",
   "id": "11af23c8",
   "metadata": {},
   "source": []
  },
  {
   "cell_type": "code",
   "execution_count": null,
   "id": "97cbd859",
   "metadata": {},
   "outputs": [],
   "source": []
  }
 ],
 "metadata": {
  "kernelspec": {
   "display_name": "Python 3",
   "language": "python",
   "name": "python3"
  },
  "language_info": {
   "codemirror_mode": {
    "name": "ipython",
    "version": 3
   },
   "file_extension": ".py",
   "mimetype": "text/x-python",
   "name": "python",
   "nbconvert_exporter": "python",
   "pygments_lexer": "ipython3",
   "version": "3.6.9"
  }
 },
 "nbformat": 4,
 "nbformat_minor": 5
}
