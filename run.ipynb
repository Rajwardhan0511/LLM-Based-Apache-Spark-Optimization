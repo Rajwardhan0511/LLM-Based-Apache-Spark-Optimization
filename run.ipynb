{
 "cells": [
  {
   "cell_type": "code",
   "execution_count": null,
   "id": "8c77a77b-5223-481d-a9c0-5584c980e5ea",
   "metadata": {},
   "outputs": [
    {
     "name": "stdout",
     "output_type": "stream",
     "text": [
      "{'message': 'Query executed successfully!', 'input_file_name': 'Listofstartups.csv', 'input_data': 'Select 5 records', 'sql_query': ' SELECT * FROM temp_view\\nLIMIT 5;', 'output_file': '/mnt/c/Users/arssh/OneDrive/Desktop/PROJECT/Output/2025_02_07_15_38_45_Listofstartups.csv'}\n"
     ]
    }
   ],
   "source": [
    "import requests\n",
    "\n",
    "url = \"http://127.0.0.1:8000/process-data/\"\n",
    "data = {\"file_name\": \"Listofstartups.csv\", \n",
    "        \"input_text\": \"Select 5 records\"}\n",
    "\n",
    "response = requests.post(url, json=data)\n",
    "print(response.json())"
   ]
  },
  {
   "cell_type": "code",
   "execution_count": null,
   "id": "b4fdc97b-cc02-4730-b7e6-8f414416efa2",
   "metadata": {},
   "outputs": [],
   "source": []
  }
 ],
 "metadata": {
  "kernelspec": {
   "display_name": "Python 3 (ipykernel)",
   "language": "python",
   "name": "python3"
  },
  "language_info": {
   "codemirror_mode": {
    "name": "ipython",
    "version": 3
   },
   "file_extension": ".py",
   "mimetype": "text/x-python",
   "name": "python",
   "nbconvert_exporter": "python",
   "pygments_lexer": "ipython3",
   "version": "3.10.0"
  }
 },
 "nbformat": 4,
 "nbformat_minor": 5
}
